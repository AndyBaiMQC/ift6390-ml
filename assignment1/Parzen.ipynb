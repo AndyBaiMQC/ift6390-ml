{
 "cells": [
  {
   "cell_type": "code",
   "execution_count": 208,
   "metadata": {},
   "outputs": [],
   "source": [
    "from solution import *\n",
    "\n",
    "import pandas as pd\n",
    "import matplotlib.pyplot as plt"
   ]
  },
  {
   "cell_type": "code",
   "execution_count": 209,
   "metadata": {},
   "outputs": [],
   "source": [
    "def get_test_errors2(iris):\n",
    "    hs = [0.001, 0.01, 0.1, 0.3, 1.0, 3.0, 10.0, 15.0, 20.0]\n",
    "    sigmas = [0.001, 0.01, 0.1, 0.3, 1.0, 3.0, 10.0, 15.0, 20.0]\n",
    "    \n",
    "    (training_set, validation_set, test_set) = split_dataset(iris)\n",
    "    \n",
    "    tr_x, tr_y = training_set[:, :-1], training_set[:, -1]\n",
    "    val_x, val_y = validation_set[:, :-1], validation_set[:, -1]\n",
    "    te_x, te_y = test_set[:, :-1], test_set[:, -1]\n",
    "    \n",
    "    er = ErrorRate(tr_x, tr_y, val_x, val_y)\n",
    "    \n",
    "    er_hp = np.array([er.hard_parzen(h) for h in hs])\n",
    "    er_sp = np.array([er.soft_parzen(sigma) for sigma in sigmas])\n",
    "    \n",
    "    return hs, sigmas, er_hp, er_sp\n",
    "\n",
    "\n",
    "hs, sigmas, er_hp, er_sp = get_test_errors2(iris)"
   ]
  },
  {
   "cell_type": "markdown",
   "metadata": {},
   "source": [
    "## Results"
   ]
  },
  {
   "cell_type": "code",
   "execution_count": 213,
   "metadata": {
    "scrolled": true
   },
   "outputs": [
    {
     "data": {
      "text/plain": [
       "<matplotlib.axes._subplots.AxesSubplot at 0x19f5808e9e8>"
      ]
     },
     "execution_count": 213,
     "metadata": {},
     "output_type": "execute_result"
    },
    {
     "data": {
      "image/png": "[encoded data removed]",
      "text/plain": [
       "<Figure size 864x360 with 2 Axes>"
      ]
     },
     "metadata": {
      "needs_background": "light"
     },
     "output_type": "display_data"
    }
   ],
   "source": [
    "df_q5 = pd.DataFrame(np.array([hs, sigmas, er_hp, er_sp]).T, columns=['h', 'sigma', 'hard_parzen_error', 'RBF_parzen_error'])\n",
    "fig, axes = plt.subplots(nrows=1, ncols=2, figsize=(12, 5))\n",
    "df_q5[['h','hard_parzen_error']].plot(x='h', y='hard_parzen_error', ax=axes[0])\n",
    "df_q5[['sigma','RBF_parzen_error']].plot(x='sigma', y='RBF_parzen_error', ax=axes[1], color='DarkGreen')"
   ]
  },
  {
   "cell_type": "markdown",
   "metadata": {},
   "source": [
    "## Analysis\n",
    "\n",
    "The results of Q5 are shown in above figure. It is obvious that the error rates of the two methods dropped rapaidly when their parameters were under $1$. The figures then gradually rose to $0.67$ and $0.13$, respectively. After that, both two figures maintained stably.\n",
    "\n",
    "However, soft RBF Parzen performed much better than hard Parzen: (1) the minimal error rate for soft RBF Parzen is  $0.03$, only one-third of that of hard Parzen ($0.1$). (2) soft RBF Parzen had much better results even that it had improper parameter settings.\n"
   ]
  },
  {
   "cell_type": "markdown",
   "metadata": {},
   "source": [
    "# Q7 \n",
    "\n",
    "## Complexity Analysis\n",
    "\n",
    "The complexity of those two methods are clear. \n",
    "\n",
    "For each test example, both two methods need to calculate the standard Euclidean distance with each sample in training data. This calculation requires $O(n d)$, where $n$ denotes the number of training examples and $d$ is the dimension of each example.\n",
    "\n",
    "For hard Parzen, it then need to campare the distance with $h$ to filter out training examples out of the window, and it can also count the votes when meeting examples in window. So, this step requires $O(n)$. Finally, obtaining the label with most votes requires $O(m)$, where $m$ denotes the number of different classes.  Therefore, the complexity of hard Parzen for each test example is\n",
    "\n",
    "$O(nd + n + m)$,\n",
    "\n",
    "and it does not change when $h$ varies. This is because that this method have to calculate distances with all training examples.\n",
    "\n",
    "\n",
    "However, soft RBF Parzen does not need to check whether each training example is in the window, instead it directly calculate KDE. Hence, its complexity is\n",
    "\n",
    "$O(nd + m)$,\n",
    "\n",
    "and it also does not change when $\\sigma$ varies, as $\\sigma$ only participates in the calculation of KDE.\n"
   ]
  },
  {
   "cell_type": "markdown",
   "metadata": {},
   "source": [
    "# Q9\n",
    "\n",
    "## Code"
   ]
  },
  {
   "cell_type": "code",
   "execution_count": null,
   "metadata": {
    "scrolled": false
   },
   "outputs": [],
   "source": [
    "def get_val_errors(iris, A):\n",
    "\n",
    "    \n",
    "    hs = [0.001, 0.01, 0.1, 0.3, 1.0, 3.0, 10.0, 15.0, 20.0]\n",
    "    sigmas = [0.001, 0.01, 0.1, 0.3, 1.0, 3.0, 10.0, 15.0, 20.0]\n",
    "    \n",
    "    (training_set, validation_set, test_set) = split_dataset(iris)\n",
    "    \n",
    "    def project_data(data):\n",
    "        projected_x = random_projections(data[:, :-1], A)\n",
    "        return np.concatenate([projected_x, np.reshape(data[:, -1],[-1,1])], axis=-1)\n",
    "    \n",
    "    \n",
    "    training_set = project_data(training_set)\n",
    "    validation_set = project_data(validation_set)\n",
    "    test_set = project_data(test_set)\n",
    "    \n",
    "    tr_x, tr_y = training_set[:, :-1], training_set[:, -1]\n",
    "    val_x, val_y = validation_set[:, :-1], validation_set[:, -1]\n",
    "    te_x, te_y = test_set[:, :-1], test_set[:, -1]\n",
    "    \n",
    "    er = ErrorRate(tr_x, tr_y, val_x, val_y)\n",
    "    \n",
    "    er_hp = np.array([er.hard_parzen(h) for h in hs])\n",
    "    er_sp = np.array([er.soft_parzen(sigma) for sigma in sigmas])\n",
    "    \n",
    "    return (er_hp, er_sp)\n",
    "\n",
    "def get_q9_data(iris):\n",
    "    results = []\n",
    "    for i in range(500):\n",
    "        A = np.random.normal(0,1, 8).reshape([-1, 2])\n",
    "        results.append(get_val_errors(iris.copy(), A))\n",
    "        if i % 10 == 0 :\n",
    "            print('%i of %i' % (i+1, 500), end='\\r')\n",
    "        \n",
    "    return results\n",
    "\n",
    "results = get_q9_data(iris)"
   ]
  },
  {
   "cell_type": "markdown",
   "metadata": {},
   "source": [
    "## Results"
   ]
  },
  {
   "cell_type": "code",
   "execution_count": 204,
   "metadata": {
    "scrolled": false
   },
   "outputs": [
    {
     "data": {
      "text/plain": [
       "<matplotlib.axes._subplots.AxesSubplot at 0x19f58625080>"
      ]
     },
     "execution_count": 204,
     "metadata": {},
     "output_type": "execute_result"
    },
    {
     "data": {
      "image/png": "[encoded data removed]",
      "text/plain": [
       "<Figure size 864x360 with 2 Axes>"
      ]
     },
     "metadata": {
      "needs_background": "light"
     },
     "output_type": "display_data"
    }
   ],
   "source": [
    "mean_results = np.array(results).mean(axis=0)\n",
    "std_results = np.array(results).std(axis=0)\n",
    "df_q9 = pd.DataFrame(np.array([hs, sigmas, mean_results[0], mean_results[1], std_results[0]*0.2, std_results[1]*0.2]).T,\n",
    "                     columns=['h', 'sigma', 'hard_parzen_error', 'RBF_parzen_error', 'hard_std', 'RBF_std'])\n",
    "\n",
    "\n",
    "fig, axes = plt.subplots(nrows=1, ncols=2, figsize=(12, 5))\n",
    "\n",
    "df_q9[['h','hard_parzen_error', 'hard_std']].plot(x='h', y='hard_parzen_error', yerr='hard_std', ax=axes[0])\n",
    "df_q9[['sigma','RBF_parzen_error', 'RBF_std']].plot(x='sigma', y='RBF_parzen_error', yerr='RBF_std', ax=axes[1], color='DarkGreen')"
   ]
  },
  {
   "cell_type": "markdown",
   "metadata": {},
   "source": [
    "## Analysis\n",
    "\n",
    "The results of Q9 are shown in the above figure.\n",
    "\n",
    "Comparing with the figure of Q5, the average error rates of Q9 were always higher. For example, the minimal error rates for hard Parzen and soft RBF Parzen were $0.17$ and $0.12$ respectively, where the figures in Q5 were only $0.10$ and $0.03$ respectively. Therefore, the performance of random projections dropped.\n",
    "\n",
    "However, on the other hand, the curve was clearly gentler than that of Q5, which may be more helpful to find $h^*$ or $\\sigma^*$."
   ]
  }
 ],
 "metadata": {
  "kernelspec": {
   "display_name": "Python 3",
   "language": "python",
   "name": "python3"
  },
  "language_info": {
   "codemirror_mode": {
    "name": "ipython",
    "version": 3
   },
   "file_extension": ".py",
   "mimetype": "text/x-python",
   "name": "python",
   "nbconvert_exporter": "python",
   "pygments_lexer": "ipython3",
   "version": "3.7.3"
  }
 },
 "nbformat": 4,
 "nbformat_minor": 2
}
